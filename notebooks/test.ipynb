{
 "cells": [
  {
   "cell_type": "code",
   "execution_count": 1,
   "metadata": {},
   "outputs": [],
   "source": [
    "import pandas as pd\n",
    "import numpy as np\n",
    "import matplotlib.pyplot as plt\n",
    "import seaborn as sns\n",
    "import statsmodels.api as sma\n",
    "import statsmodels.formula.api as smf\n",
    "import sklearn.linear_model as lm\n",
    "from sklearn.metrics import (confusion_matrix, accuracy_score)\n",
    "# set up path to import my python scripts\n",
    "import sys\n",
    "import os\n",
    "src_path = os.path.abspath(os.path.join('..'))\n",
    "if src_path not in sys.path:\n",
    "    sys.path.append(src_path+\"/src\")\n",
    "    \n",
    "%load_ext autoreload\n",
    "%autoreload 2\n",
    "import clean_df\n",
    "\n",
    "#import data from 2013-2014 NHANES: https://www.kaggle.com/cdc/national-health-and-nutrition-examination-survey\n",
    "#description of columns: https://wwwn.cdc.gov/nchs/nhanes/2013-2014/demo_h.htm\n",
    "demo_df = pd.read_csv('../data/demographic.csv')\n",
    "diet_df = pd.read_csv('../data/diet.csv')\n",
    "exam_df = pd.read_csv('../data/examination.csv')\n",
    "labs_df = pd.read_csv('../data/labs.csv')\n",
    "med_df = pd.read_csv('../data/medications.csv', encoding='latin1')\n",
    "ques_df = pd.read_csv('../data/questionnaire.csv')"
   ]
  },
  {
   "cell_type": "markdown",
   "metadata": {},
   "source": [
    "### Step 1: EDA"
   ]
  },
  {
   "cell_type": "code",
   "execution_count": 2,
   "metadata": {},
   "outputs": [],
   "source": [
    "new_demo_df = demo_df[['SEQN','RIAGENDR','RIDAGEYR','RIDRETH3',\n",
    "'DMQMILIZ','DMQADFC','DMDBORN4','DMDMARTL']]"
   ]
  },
  {
   "cell_type": "code",
   "execution_count": 3,
   "metadata": {},
   "outputs": [
    {
     "data": {
      "text/plain": [
       "\"\\ndemo_df feature descriptions:\\n------------------------------\\nSEQN: Participant sequence number\\nRIAGENDR: Particpant gender\\n\\t1 -> Male\\n\\t2 -> Female\\nRIDAGEYR: Age in years\\nRIDRETH3: Race/Hispanic origin w/ NH Asian\\n\\t1 -> Mexican American\\n\\t2 -> Other Hispanic\\n\\t3 -> Non-Hispanic White\\n\\t4 -> Non-Hispanic Black\\n\\t6 -> Non-Hispanic Asian\\n\\t7 -> Other Race - Including Multi-Racial\\nDMQMILIZ: Served active duty in US Armed Forces\\n\\t1 -> Yes\\n\\t2 -> No\\n\\t7 -> Refused\\n\\t9 -> Don't Know\\n\\t. -> Missing\\nDMQADFC: Served in a foreign country\\n\\t1 -> Yes\\n\\t2 -> No\\n\\t7 -> Refused\\n\\t9 -> Don't Know\\n\\t. -> Missing\\nDMDBORN4: Country of birth\\n\\t1 -> Born in US\\n\\t2 -> Others\\n\\t77 -> Refused\\n\\t99 -> Don't Know\\n\\t. -> Missing\\nDMDMARTL: Marital Status\\n\\t1 -> Married\\n\\t2 -> Widowed\\n\\t3 -> Divorced\\n\\t4 -> Separated\\n\\t5 -> Never married\\n\\t6 -> Living with partner\\n\\t77 -> Refused\\n\\t99 -> Don't Know\\n\\t. -> Missing\\n\""
      ]
     },
     "execution_count": 3,
     "metadata": {},
     "output_type": "execute_result"
    }
   ],
   "source": [
    "'''\n",
    "demo_df feature descriptions:\n",
    "------------------------------\n",
    "SEQN: Participant sequence number\n",
    "RIAGENDR: Particpant gender\n",
    "\t1 -> Male\n",
    "\t2 -> Female\n",
    "RIDAGEYR: Age in years\n",
    "RIDRETH3: Race/Hispanic origin w/ NH Asian\n",
    "\t1 -> Mexican American\n",
    "\t2 -> Other Hispanic\n",
    "\t3 -> Non-Hispanic White\n",
    "\t4 -> Non-Hispanic Black\n",
    "\t6 -> Non-Hispanic Asian\n",
    "\t7 -> Other Race - Including Multi-Racial\n",
    "DMQMILIZ: Served active duty in US Armed Forces\n",
    "\t1 -> Yes\n",
    "\t2 -> No\n",
    "\t7 -> Refused\n",
    "\t9 -> Don't Know\n",
    "\t. -> Missing\n",
    "DMQADFC: Served in a foreign country\n",
    "\t1 -> Yes\n",
    "\t2 -> No\n",
    "\t7 -> Refused\n",
    "\t9 -> Don't Know\n",
    "\t. -> Missing\n",
    "DMDBORN4: Country of birth\n",
    "\t1 -> Born in US\n",
    "\t2 -> Others\n",
    "\t77 -> Refused\n",
    "\t99 -> Don't Know\n",
    "\t. -> Missing\n",
    "DMDMARTL: Marital Status\n",
    "\t1 -> Married\n",
    "\t2 -> Widowed\n",
    "\t3 -> Divorced\n",
    "\t4 -> Separated\n",
    "\t5 -> Never married\n",
    "\t6 -> Living with partner\n",
    "\t77 -> Refused\n",
    "\t99 -> Don't Know\n",
    "\t. -> Missing\n",
    "'''"
   ]
  },
  {
   "cell_type": "code",
   "execution_count": 4,
   "metadata": {},
   "outputs": [],
   "source": [
    "new_df = clean_df.DemographicDF()\n",
    "exam_df = clean_df.ExamDF()\n",
    "new_df.left_merge(exam_df)\n",
    "labs_df = clean_df.LabsDF()\n",
    "new_df.left_merge(labs_df)\n",
    "ques_df = clean_df.QuestDF()\n",
    "new_df.left_merge(ques_df)"
   ]
  },
  {
   "cell_type": "code",
   "execution_count": 5,
   "metadata": {},
   "outputs": [
    {
     "data": {
      "text/html": [
       "<div>\n",
       "<style scoped>\n",
       "    .dataframe tbody tr th:only-of-type {\n",
       "        vertical-align: middle;\n",
       "    }\n",
       "\n",
       "    .dataframe tbody tr th {\n",
       "        vertical-align: top;\n",
       "    }\n",
       "\n",
       "    .dataframe thead th {\n",
       "        text-align: right;\n",
       "    }\n",
       "</style>\n",
       "<table border=\"1\" class=\"dataframe\">\n",
       "  <thead>\n",
       "    <tr style=\"text-align: right;\">\n",
       "      <th></th>\n",
       "      <th>SEQN</th>\n",
       "      <th>RIAGENDR</th>\n",
       "      <th>RIDAGEYR</th>\n",
       "      <th>RIDRETH3</th>\n",
       "      <th>DMQMILIZ</th>\n",
       "      <th>DMQADFC</th>\n",
       "      <th>DMDBORN4</th>\n",
       "      <th>DMDMARTL</th>\n",
       "      <th>AVG_SYS_BP</th>\n",
       "      <th>AVG_DIAS_BP</th>\n",
       "      <th>High_SYS_BP</th>\n",
       "      <th>High_DIAS_BP</th>\n",
       "      <th>LBXHCT</th>\n",
       "      <th>LBXTR</th>\n",
       "      <th>BPQ020</th>\n",
       "      <th>BPQ080</th>\n",
       "      <th>BPQ040A</th>\n",
       "      <th>BPQ050A</th>\n",
       "      <th>BPQ090D</th>\n",
       "    </tr>\n",
       "  </thead>\n",
       "  <tbody>\n",
       "    <tr>\n",
       "      <th>0</th>\n",
       "      <td>73557</td>\n",
       "      <td>Male</td>\n",
       "      <td>69</td>\n",
       "      <td>Black</td>\n",
       "      <td>Yes</td>\n",
       "      <td>Yes</td>\n",
       "      <td>Born in US</td>\n",
       "      <td>Separated</td>\n",
       "      <td>112.666667</td>\n",
       "      <td>74.000000</td>\n",
       "      <td>0.0</td>\n",
       "      <td>0.0</td>\n",
       "      <td>45.4</td>\n",
       "      <td>NaN</td>\n",
       "      <td>Yes</td>\n",
       "      <td>Yes</td>\n",
       "      <td>Yes</td>\n",
       "      <td>No</td>\n",
       "      <td>Yes</td>\n",
       "    </tr>\n",
       "    <tr>\n",
       "      <th>1</th>\n",
       "      <td>73558</td>\n",
       "      <td>Male</td>\n",
       "      <td>54</td>\n",
       "      <td>White</td>\n",
       "      <td>No</td>\n",
       "      <td>NaN</td>\n",
       "      <td>Born in US</td>\n",
       "      <td>Married</td>\n",
       "      <td>157.333333</td>\n",
       "      <td>61.333333</td>\n",
       "      <td>1.0</td>\n",
       "      <td>0.0</td>\n",
       "      <td>36.7</td>\n",
       "      <td>NaN</td>\n",
       "      <td>Yes</td>\n",
       "      <td>Yes</td>\n",
       "      <td>No</td>\n",
       "      <td>NaN</td>\n",
       "      <td>Yes</td>\n",
       "    </tr>\n",
       "    <tr>\n",
       "      <th>2</th>\n",
       "      <td>73559</td>\n",
       "      <td>Male</td>\n",
       "      <td>72</td>\n",
       "      <td>White</td>\n",
       "      <td>Yes</td>\n",
       "      <td>Yes</td>\n",
       "      <td>Born in US</td>\n",
       "      <td>Married</td>\n",
       "      <td>142.000000</td>\n",
       "      <td>82.000000</td>\n",
       "      <td>1.0</td>\n",
       "      <td>1.0</td>\n",
       "      <td>49.9</td>\n",
       "      <td>51.0</td>\n",
       "      <td>Yes</td>\n",
       "      <td>Yes</td>\n",
       "      <td>Yes</td>\n",
       "      <td>Yes</td>\n",
       "      <td>Yes</td>\n",
       "    </tr>\n",
       "    <tr>\n",
       "      <th>3</th>\n",
       "      <td>73560</td>\n",
       "      <td>Male</td>\n",
       "      <td>9</td>\n",
       "      <td>White</td>\n",
       "      <td>NaN</td>\n",
       "      <td>NaN</td>\n",
       "      <td>Born in US</td>\n",
       "      <td>NaN</td>\n",
       "      <td>104.666667</td>\n",
       "      <td>36.666667</td>\n",
       "      <td>0.0</td>\n",
       "      <td>0.0</td>\n",
       "      <td>37.8</td>\n",
       "      <td>NaN</td>\n",
       "      <td>NaN</td>\n",
       "      <td>NaN</td>\n",
       "      <td>NaN</td>\n",
       "      <td>NaN</td>\n",
       "      <td>NaN</td>\n",
       "    </tr>\n",
       "    <tr>\n",
       "      <th>4</th>\n",
       "      <td>73561</td>\n",
       "      <td>Female</td>\n",
       "      <td>73</td>\n",
       "      <td>White</td>\n",
       "      <td>No</td>\n",
       "      <td>NaN</td>\n",
       "      <td>Born in US</td>\n",
       "      <td>Married</td>\n",
       "      <td>137.333333</td>\n",
       "      <td>86.666667</td>\n",
       "      <td>1.0</td>\n",
       "      <td>1.0</td>\n",
       "      <td>43.8</td>\n",
       "      <td>75.0</td>\n",
       "      <td>Yes</td>\n",
       "      <td>No</td>\n",
       "      <td>Yes</td>\n",
       "      <td>Yes</td>\n",
       "      <td>No</td>\n",
       "    </tr>\n",
       "  </tbody>\n",
       "</table>\n",
       "</div>"
      ],
      "text/plain": [
       "    SEQN RIAGENDR  RIDAGEYR RIDRETH3 DMQMILIZ DMQADFC    DMDBORN4   DMDMARTL  \\\n",
       "0  73557     Male        69    Black      Yes     Yes  Born in US  Separated   \n",
       "1  73558     Male        54    White       No     NaN  Born in US    Married   \n",
       "2  73559     Male        72    White      Yes     Yes  Born in US    Married   \n",
       "3  73560     Male         9    White      NaN     NaN  Born in US        NaN   \n",
       "4  73561   Female        73    White       No     NaN  Born in US    Married   \n",
       "\n",
       "   AVG_SYS_BP  AVG_DIAS_BP  High_SYS_BP  High_DIAS_BP  LBXHCT  LBXTR BPQ020  \\\n",
       "0  112.666667    74.000000          0.0           0.0    45.4    NaN    Yes   \n",
       "1  157.333333    61.333333          1.0           0.0    36.7    NaN    Yes   \n",
       "2  142.000000    82.000000          1.0           1.0    49.9   51.0    Yes   \n",
       "3  104.666667    36.666667          0.0           0.0    37.8    NaN    NaN   \n",
       "4  137.333333    86.666667          1.0           1.0    43.8   75.0    Yes   \n",
       "\n",
       "  BPQ080 BPQ040A BPQ050A BPQ090D  \n",
       "0    Yes     Yes      No     Yes  \n",
       "1    Yes      No     NaN     Yes  \n",
       "2    Yes     Yes     Yes     Yes  \n",
       "3    NaN     NaN     NaN     NaN  \n",
       "4     No     Yes     Yes      No  "
      ]
     },
     "execution_count": 5,
     "metadata": {},
     "output_type": "execute_result"
    }
   ],
   "source": [
    "new_df.df.head()"
   ]
  },
  {
   "cell_type": "code",
   "execution_count": 6,
   "metadata": {},
   "outputs": [],
   "source": [
    "test_df = new_df.df\n",
    "nicotine = test_df['LBXHCT']\n",
    "avg_sys_bp = test_df['AVG_SYS_BP']"
   ]
  },
  {
   "cell_type": "code",
   "execution_count": 7,
   "metadata": {},
   "outputs": [
    {
     "data": {
      "text/html": [
       "<div>\n",
       "<style scoped>\n",
       "    .dataframe tbody tr th:only-of-type {\n",
       "        vertical-align: middle;\n",
       "    }\n",
       "\n",
       "    .dataframe tbody tr th {\n",
       "        vertical-align: top;\n",
       "    }\n",
       "\n",
       "    .dataframe thead th {\n",
       "        text-align: right;\n",
       "    }\n",
       "</style>\n",
       "<table border=\"1\" class=\"dataframe\">\n",
       "  <thead>\n",
       "    <tr style=\"text-align: right;\">\n",
       "      <th></th>\n",
       "      <th>SEQN</th>\n",
       "    </tr>\n",
       "  </thead>\n",
       "  <tbody>\n",
       "    <tr>\n",
       "      <th>0</th>\n",
       "      <td>73557</td>\n",
       "    </tr>\n",
       "    <tr>\n",
       "      <th>1</th>\n",
       "      <td>73558</td>\n",
       "    </tr>\n",
       "    <tr>\n",
       "      <th>2</th>\n",
       "      <td>73559</td>\n",
       "    </tr>\n",
       "    <tr>\n",
       "      <th>3</th>\n",
       "      <td>73560</td>\n",
       "    </tr>\n",
       "    <tr>\n",
       "      <th>4</th>\n",
       "      <td>73561</td>\n",
       "    </tr>\n",
       "    <tr>\n",
       "      <th>...</th>\n",
       "      <td>...</td>\n",
       "    </tr>\n",
       "    <tr>\n",
       "      <th>10170</th>\n",
       "      <td>83727</td>\n",
       "    </tr>\n",
       "    <tr>\n",
       "      <th>10171</th>\n",
       "      <td>83728</td>\n",
       "    </tr>\n",
       "    <tr>\n",
       "      <th>10172</th>\n",
       "      <td>83729</td>\n",
       "    </tr>\n",
       "    <tr>\n",
       "      <th>10173</th>\n",
       "      <td>83730</td>\n",
       "    </tr>\n",
       "    <tr>\n",
       "      <th>10174</th>\n",
       "      <td>83731</td>\n",
       "    </tr>\n",
       "  </tbody>\n",
       "</table>\n",
       "<p>10175 rows × 1 columns</p>\n",
       "</div>"
      ],
      "text/plain": [
       "        SEQN\n",
       "0      73557\n",
       "1      73558\n",
       "2      73559\n",
       "3      73560\n",
       "4      73561\n",
       "...      ...\n",
       "10170  83727\n",
       "10171  83728\n",
       "10172  83729\n",
       "10173  83730\n",
       "10174  83731\n",
       "\n",
       "[10175 rows x 1 columns]"
      ]
     },
     "execution_count": 7,
     "metadata": {},
     "output_type": "execute_result"
    }
   ],
   "source": [
    "test_df.loc[test_df['RIDAGEYR'] > -1, ['SEQN']]"
   ]
  },
  {
   "cell_type": "code",
   "execution_count": null,
   "metadata": {},
   "outputs": [],
   "source": []
  },
  {
   "cell_type": "code",
   "execution_count": 8,
   "metadata": {},
   "outputs": [
    {
     "data": {
      "image/png": "[encoded data removed]",
      "text/plain": [
       "<Figure size 432x288 with 1 Axes>"
      ]
     },
     "metadata": {
      "needs_background": "light"
     },
     "output_type": "display_data"
    }
   ],
   "source": [
    "#AVG Systolic BP vs Nicotine (Hydroxycotinine, Serum (ng/mL))\n",
    "fig, ax = plt.subplots()\n",
    "\n",
    "# x = test_df['LBXHCT']\n",
    "# y = test_df['AVG SYS BP']\n",
    "\n",
    "ax = plt.scatter(x=nicotine,y=avg_sys_bp,alpha=0.5)\n",
    "\n",
    "plt.show()"
   ]
  },
  {
   "cell_type": "code",
   "execution_count": 9,
   "metadata": {},
   "outputs": [
    {
     "data": {
      "image/png": "[encoded data removed]",
      "text/plain": [
       "<Figure size 432x288 with 1 Axes>"
      ]
     },
     "metadata": {
      "needs_background": "light"
     },
     "output_type": "display_data"
    }
   ],
   "source": [
    "fig, ax = plt.subplots()\n",
    "\n",
    "ax = plt.hist(x=nicotine,bins=20)"
   ]
  },
  {
   "cell_type": "code",
   "execution_count": 10,
   "metadata": {},
   "outputs": [
    {
     "data": {
      "image/png": "[encoded data removed]",
      "text/plain": [
       "<Figure size 432x288 with 1 Axes>"
      ]
     },
     "metadata": {
      "needs_background": "light"
     },
     "output_type": "display_data"
    }
   ],
   "source": [
    "#AVG Diastolic BP vs Nicotine (Hydroxycotinine, Serum (ng/mL))\n",
    "fig, ax = plt.subplots()\n",
    "\n",
    "x = test_df['LBXHCT']\n",
    "y = test_df['AVG_DIAS_BP']\n",
    "\n",
    "ax = plt.scatter(x=x,y=y,alpha=0.5)\n",
    "\n",
    "plt.show()"
   ]
  },
  {
   "cell_type": "code",
   "execution_count": 11,
   "metadata": {},
   "outputs": [],
   "source": [
    "# sns.pairplot(new_df.df)"
   ]
  },
  {
   "cell_type": "code",
   "execution_count": 12,
   "metadata": {},
   "outputs": [
    {
     "data": {
      "text/plain": [
       "<seaborn.axisgrid.FacetGrid at 0x7fb7b67acf40>"
      ]
     },
     "execution_count": 12,
     "metadata": {},
     "output_type": "execute_result"
    },
    {
     "data": {
      "image/png": "[encoded data removed]",
      "text/plain": [
       "<Figure size 360x360 with 1 Axes>"
      ]
     },
     "metadata": {
      "needs_background": "light"
     },
     "output_type": "display_data"
    }
   ],
   "source": [
    "sns.catplot(x='DMQMILIZ', y='AVG_DIAS_BP',kind='box',data=test_df)"
   ]
  },
  {
   "cell_type": "code",
   "execution_count": 13,
   "metadata": {},
   "outputs": [
    {
     "data": {
      "text/plain": [
       "<seaborn.axisgrid.FacetGrid at 0x7fb7b66bc490>"
      ]
     },
     "execution_count": 13,
     "metadata": {},
     "output_type": "execute_result"
    },
    {
     "data": {
      "image/png": "[encoded data removed]",
      "text/plain": [
       "<Figure size 360x360 with 1 Axes>"
      ]
     },
     "metadata": {
      "needs_background": "light"
     },
     "output_type": "display_data"
    }
   ],
   "source": [
    "sns.catplot(x='DMDMARTL', y='AVG_DIAS_BP',kind='box', data=test_df)"
   ]
  },
  {
   "cell_type": "code",
   "execution_count": 14,
   "metadata": {},
   "outputs": [
    {
     "data": {
      "text/plain": [
       "<AxesSubplot:xlabel='LBXHCT', ylabel='High_DIAS_BP'>"
      ]
     },
     "execution_count": 14,
     "metadata": {},
     "output_type": "execute_result"
    },
    {
     "data": {
      "image/png": "[encoded data removed]",
      "text/plain": [
       "<Figure size 432x288 with 1 Axes>"
      ]
     },
     "metadata": {
      "needs_background": "light"
     },
     "output_type": "display_data"
    }
   ],
   "source": [
    "sns.scatterplot(x='LBXHCT', y='High_DIAS_BP',data=test_df)"
   ]
  },
  {
   "cell_type": "code",
   "execution_count": 15,
   "metadata": {},
   "outputs": [
    {
     "data": {
      "text/plain": [
       "<AxesSubplot:xlabel='LBXHCT', ylabel='High_SYS_BP'>"
      ]
     },
     "execution_count": 15,
     "metadata": {},
     "output_type": "execute_result"
    },
    {
     "data": {
      "image/png": "[encoded data removed]",
      "text/plain": [
       "<Figure size 432x288 with 1 Axes>"
      ]
     },
     "metadata": {
      "needs_background": "light"
     },
     "output_type": "display_data"
    }
   ],
   "source": [
    "sns.scatterplot(x='LBXHCT', y='High_SYS_BP',data=test_df)"
   ]
  },
  {
   "cell_type": "code",
   "execution_count": 16,
   "metadata": {},
   "outputs": [],
   "source": [
    "xy_values = test_df[test_df['LBXHCT']>-1]\n",
    "xy_values = xy_values[xy_values['High_SYS_BP']>-1].sort_values(by='LBXHCT')\n",
    "x_values = xy_values['LBXHCT'].to_numpy().reshape(-1,1)\n",
    "y_values = xy_values['High_SYS_BP'].to_numpy().astype('int')\n",
    "\n",
    "model = lm.LogisticRegression()\n",
    "results = model.fit(X=x_values,y=y_values)\n",
    "\n",
    "#print(results.summary())"
   ]
  },
  {
   "cell_type": "code",
   "execution_count": 17,
   "metadata": {},
   "outputs": [
    {
     "name": "stdout",
     "output_type": "stream",
     "text": [
      "<class 'numpy.ndarray'>\n"
     ]
    }
   ],
   "source": [
    "xy_values = test_df[test_df['LBXHCT']>-1]\n",
    "xy_values = xy_values[xy_values['High_SYS_BP']>-1].sort_values(by='LBXHCT')\n",
    "x_values = xy_values['LBXHCT'].to_numpy().reshape(-1,1)\n",
    "y_values = xy_values['High_SYS_BP'].to_numpy().astype('int')\n",
    "\n",
    "#xy_values.head()\n",
    "print(type(y_values))\n",
    "\n",
    "model = lm.LogisticRegression()\n",
    "results = model.fit(X=x_values,y=y_values)\n",
    "\n",
    "y_hat_probs = model.predict_proba(x_values)[:,1]\n",
    "threshold = 0.15\n",
    "y_hat = (y_hat_probs >= threshold).astype('int')\n",
    "#print(results.summary())\n"
   ]
  },
  {
   "cell_type": "code",
   "execution_count": 18,
   "metadata": {},
   "outputs": [
    {
     "data": {
      "image/png": "[encoded data removed]",
      "text/plain": [
       "<Figure size 864x720 with 1 Axes>"
      ]
     },
     "metadata": {
      "needs_background": "light"
     },
     "output_type": "display_data"
    }
   ],
   "source": [
    "x = np.linspace(0,500,500).reshape(-1,1)\n",
    "\n",
    "fig = plt.figure(figsize=(12,10))\n",
    "ax = fig.add_subplot(111)\n",
    "ax.scatter(x_values, y_values, cmap='bwr')\n",
    "ax.plot(x, model.predict_proba(x)[:,1], 'g--', label='probability of horse')\n",
    "ax.set_xlim([10,200])\n",
    "# ax.set_ylim([-0.2,1.201])\n",
    "# ax.set_xlabel('Weight (lb)',fontsize=font_size)\n",
    "ax.set_ylabel('Has High Systolic Blood Pressure?')\n",
    "# ax.set_title('Horseness vs. weight',fontsize=font_size)\n",
    "plt.show()"
   ]
  },
  {
   "cell_type": "code",
   "execution_count": 19,
   "metadata": {},
   "outputs": [
    {
     "data": {
      "text/plain": [
       "<matplotlib.collections.PathCollection at 0x7fb7b7224a60>"
      ]
     },
     "execution_count": 19,
     "metadata": {},
     "output_type": "execute_result"
    },
    {
     "data": {
      "image/png": "[encoded data removed]",
      "text/plain": [
       "<Figure size 432x288 with 1 Axes>"
      ]
     },
     "metadata": {
      "needs_background": "light"
     },
     "output_type": "display_data"
    }
   ],
   "source": [
    "fig, ax = plt.subplots()\n",
    "\n",
    "x = test_df['RIDAGEYR']\n",
    "y = test_df['AVG_SYS_BP']\n",
    "\n",
    "ax.scatter(x=x,y=y)"
   ]
  },
  {
   "cell_type": "code",
   "execution_count": 22,
   "metadata": {},
   "outputs": [
    {
     "name": "stdout",
     "output_type": "stream",
     "text": [
      "Optimization terminated successfully.\n",
      "         Current function value: 0.477647\n",
      "         Iterations 6\n",
      "Test accuracy =  0.8123829588014981\n"
     ]
    }
   ],
   "source": [
    "xy_values = test_df[test_df['LBXHCT']>-1]\n",
    "xy_values = xy_values[xy_values['High_SYS_BP']>-1].sort_values(by='LBXHCT')\n",
    "x = xy_values['LBXHCT']\n",
    "y = xy_values['High_SYS_BP']\n",
    "formula = \"High_SYS_BP ~ LBXHCT\"\n",
    "mylogit = smf.logit(formula=formula, data=test_df).fit()\n",
    "yhat = mylogit.predict(x)\n",
    "prediction = list(map(round, yhat))\n",
    "print('Test accuracy = ', accuracy_score(y, prediction))\n",
    "#mylogit.summary()"
   ]
  },
  {
   "cell_type": "code",
   "execution_count": null,
   "metadata": {},
   "outputs": [],
   "source": []
  },
  {
   "cell_type": "code",
   "execution_count": 20,
   "metadata": {},
   "outputs": [
    {
     "name": "stdout",
     "output_type": "stream",
     "text": [
      "Optimization terminated successfully.\n",
      "         Current function value: 0.357891\n",
      "         Iterations 7\n"
     ]
    },
    {
     "data": {
      "text/html": [
       "<table class=\"simpletable\">\n",
       "<caption>Logit Regression Results</caption>\n",
       "<tr>\n",
       "  <th>Dep. Variable:</th>      <td>High_SYS_BP</td>   <th>  No. Observations:  </th>  <td>  8544</td> \n",
       "</tr>\n",
       "<tr>\n",
       "  <th>Model:</th>                 <td>Logit</td>      <th>  Df Residuals:      </th>  <td>  8541</td> \n",
       "</tr>\n",
       "<tr>\n",
       "  <th>Method:</th>                 <td>MLE</td>       <th>  Df Model:          </th>  <td>     2</td> \n",
       "</tr>\n",
       "<tr>\n",
       "  <th>Date:</th>            <td>Wed, 29 Dec 2021</td> <th>  Pseudo R-squ.:     </th>  <td>0.2586</td> \n",
       "</tr>\n",
       "<tr>\n",
       "  <th>Time:</th>                <td>19:05:15</td>     <th>  Log-Likelihood:    </th> <td> -3057.8</td>\n",
       "</tr>\n",
       "<tr>\n",
       "  <th>converged:</th>             <td>True</td>       <th>  LL-Null:           </th> <td> -4124.6</td>\n",
       "</tr>\n",
       "<tr>\n",
       "  <th>Covariance Type:</th>     <td>nonrobust</td>    <th>  LLR p-value:       </th>  <td> 0.000</td> \n",
       "</tr>\n",
       "</table>\n",
       "<table class=\"simpletable\">\n",
       "<tr>\n",
       "      <td></td>         <th>coef</th>     <th>std err</th>      <th>z</th>      <th>P>|z|</th>  <th>[0.025</th>    <th>0.975]</th>  \n",
       "</tr>\n",
       "<tr>\n",
       "  <th>Intercept</th> <td>   -5.8462</td> <td>    0.341</td> <td>  -17.121</td> <td> 0.000</td> <td>   -6.515</td> <td>   -5.177</td>\n",
       "</tr>\n",
       "<tr>\n",
       "  <th>LBXHCT</th>    <td>    0.0384</td> <td>    0.008</td> <td>    4.910</td> <td> 0.000</td> <td>    0.023</td> <td>    0.054</td>\n",
       "</tr>\n",
       "<tr>\n",
       "  <th>RIDAGEYR</th>  <td>    0.0629</td> <td>    0.002</td> <td>   37.328</td> <td> 0.000</td> <td>    0.060</td> <td>    0.066</td>\n",
       "</tr>\n",
       "</table>"
      ],
      "text/plain": [
       "<class 'statsmodels.iolib.summary.Summary'>\n",
       "\"\"\"\n",
       "                           Logit Regression Results                           \n",
       "==============================================================================\n",
       "Dep. Variable:            High_SYS_BP   No. Observations:                 8544\n",
       "Model:                          Logit   Df Residuals:                     8541\n",
       "Method:                           MLE   Df Model:                            2\n",
       "Date:                Wed, 29 Dec 2021   Pseudo R-squ.:                  0.2586\n",
       "Time:                        19:05:15   Log-Likelihood:                -3057.8\n",
       "converged:                       True   LL-Null:                       -4124.6\n",
       "Covariance Type:            nonrobust   LLR p-value:                     0.000\n",
       "==============================================================================\n",
       "                 coef    std err          z      P>|z|      [0.025      0.975]\n",
       "------------------------------------------------------------------------------\n",
       "Intercept     -5.8462      0.341    -17.121      0.000      -6.515      -5.177\n",
       "LBXHCT         0.0384      0.008      4.910      0.000       0.023       0.054\n",
       "RIDAGEYR       0.0629      0.002     37.328      0.000       0.060       0.066\n",
       "==============================================================================\n",
       "\"\"\""
      ]
     },
     "execution_count": 20,
     "metadata": {},
     "output_type": "execute_result"
    }
   ],
   "source": [
    "formula2 = \"High_SYS_BP ~ LBXHCT + RIDAGEYR\"\n",
    "mylogit2 = smf.logit(formula=formula2, data=test_df).fit()\n",
    "mylogit2.summary()"
   ]
  },
  {
   "cell_type": "code",
   "execution_count": 21,
   "metadata": {},
   "outputs": [
    {
     "name": "stdout",
     "output_type": "stream",
     "text": [
      "Optimization terminated successfully.\n",
      "         Current function value: 0.357337\n",
      "         Iterations 7\n"
     ]
    },
    {
     "data": {
      "text/html": [
       "<table class=\"simpletable\">\n",
       "<caption>Logit Regression Results</caption>\n",
       "<tr>\n",
       "  <th>Dep. Variable:</th>      <td>High_SYS_BP</td>   <th>  No. Observations:  </th>  <td>  8544</td> \n",
       "</tr>\n",
       "<tr>\n",
       "  <th>Model:</th>                 <td>Logit</td>      <th>  Df Residuals:      </th>  <td>  8540</td> \n",
       "</tr>\n",
       "<tr>\n",
       "  <th>Method:</th>                 <td>MLE</td>       <th>  Df Model:          </th>  <td>     3</td> \n",
       "</tr>\n",
       "<tr>\n",
       "  <th>Date:</th>            <td>Wed, 29 Dec 2021</td> <th>  Pseudo R-squ.:     </th>  <td>0.2598</td> \n",
       "</tr>\n",
       "<tr>\n",
       "  <th>Time:</th>                <td>19:05:19</td>     <th>  Log-Likelihood:    </th> <td> -3053.1</td>\n",
       "</tr>\n",
       "<tr>\n",
       "  <th>converged:</th>             <td>True</td>       <th>  LL-Null:           </th> <td> -4124.6</td>\n",
       "</tr>\n",
       "<tr>\n",
       "  <th>Covariance Type:</th>     <td>nonrobust</td>    <th>  LLR p-value:       </th>  <td> 0.000</td> \n",
       "</tr>\n",
       "</table>\n",
       "<table class=\"simpletable\">\n",
       "<tr>\n",
       "          <td></td>            <th>coef</th>     <th>std err</th>      <th>z</th>      <th>P>|z|</th>  <th>[0.025</th>    <th>0.975]</th>  \n",
       "</tr>\n",
       "<tr>\n",
       "  <th>Intercept</th>        <td>   -5.4770</td> <td>    0.360</td> <td>  -15.201</td> <td> 0.000</td> <td>   -6.183</td> <td>   -4.771</td>\n",
       "</tr>\n",
       "<tr>\n",
       "  <th>RIAGENDR[T.Male]</th> <td>    0.2212</td> <td>    0.072</td> <td>    3.074</td> <td> 0.002</td> <td>    0.080</td> <td>    0.362</td>\n",
       "</tr>\n",
       "<tr>\n",
       "  <th>LBXHCT</th>           <td>    0.0266</td> <td>    0.009</td> <td>    3.056</td> <td> 0.002</td> <td>    0.010</td> <td>    0.044</td>\n",
       "</tr>\n",
       "<tr>\n",
       "  <th>RIDAGEYR</th>         <td>    0.0630</td> <td>    0.002</td> <td>   37.491</td> <td> 0.000</td> <td>    0.060</td> <td>    0.066</td>\n",
       "</tr>\n",
       "</table>"
      ],
      "text/plain": [
       "<class 'statsmodels.iolib.summary.Summary'>\n",
       "\"\"\"\n",
       "                           Logit Regression Results                           \n",
       "==============================================================================\n",
       "Dep. Variable:            High_SYS_BP   No. Observations:                 8544\n",
       "Model:                          Logit   Df Residuals:                     8540\n",
       "Method:                           MLE   Df Model:                            3\n",
       "Date:                Wed, 29 Dec 2021   Pseudo R-squ.:                  0.2598\n",
       "Time:                        19:05:19   Log-Likelihood:                -3053.1\n",
       "converged:                       True   LL-Null:                       -4124.6\n",
       "Covariance Type:            nonrobust   LLR p-value:                     0.000\n",
       "====================================================================================\n",
       "                       coef    std err          z      P>|z|      [0.025      0.975]\n",
       "------------------------------------------------------------------------------------\n",
       "Intercept           -5.4770      0.360    -15.201      0.000      -6.183      -4.771\n",
       "RIAGENDR[T.Male]     0.2212      0.072      3.074      0.002       0.080       0.362\n",
       "LBXHCT               0.0266      0.009      3.056      0.002       0.010       0.044\n",
       "RIDAGEYR             0.0630      0.002     37.491      0.000       0.060       0.066\n",
       "====================================================================================\n",
       "\"\"\""
      ]
     },
     "execution_count": 21,
     "metadata": {},
     "output_type": "execute_result"
    }
   ],
   "source": [
    "formula3 = \"High_SYS_BP ~ LBXHCT + RIDAGEYR + RIAGENDR\"\n",
    "mylogit3 = smf.logit(formula=formula3, data=test_df).fit()\n",
    "mylogit3.summary()"
   ]
  },
  {
   "cell_type": "code",
   "execution_count": 22,
   "metadata": {},
   "outputs": [
    {
     "name": "stdout",
     "output_type": "stream",
     "text": [
      "Optimization terminated successfully.\n",
      "         Current function value: 0.477605\n",
      "         Iterations 6\n"
     ]
    },
    {
     "data": {
      "text/html": [
       "<table class=\"simpletable\">\n",
       "<caption>Logit Regression Results</caption>\n",
       "<tr>\n",
       "  <th>Dep. Variable:</th>      <td>High_SYS_BP</td>   <th>  No. Observations:  </th>  <td>  8544</td>  \n",
       "</tr>\n",
       "<tr>\n",
       "  <th>Model:</th>                 <td>Logit</td>      <th>  Df Residuals:      </th>  <td>  8541</td>  \n",
       "</tr>\n",
       "<tr>\n",
       "  <th>Method:</th>                 <td>MLE</td>       <th>  Df Model:          </th>  <td>     2</td>  \n",
       "</tr>\n",
       "<tr>\n",
       "  <th>Date:</th>            <td>Wed, 29 Dec 2021</td> <th>  Pseudo R-squ.:     </th>  <td>0.01066</td> \n",
       "</tr>\n",
       "<tr>\n",
       "  <th>Time:</th>                <td>19:08:49</td>     <th>  Log-Likelihood:    </th> <td> -4080.7</td> \n",
       "</tr>\n",
       "<tr>\n",
       "  <th>converged:</th>             <td>True</td>       <th>  LL-Null:           </th> <td> -4124.6</td> \n",
       "</tr>\n",
       "<tr>\n",
       "  <th>Covariance Type:</th>     <td>nonrobust</td>    <th>  LLR p-value:       </th> <td>8.173e-20</td>\n",
       "</tr>\n",
       "</table>\n",
       "<table class=\"simpletable\">\n",
       "<tr>\n",
       "          <td></td>            <th>coef</th>     <th>std err</th>      <th>z</th>      <th>P>|z|</th>  <th>[0.025</th>    <th>0.975]</th>  \n",
       "</tr>\n",
       "<tr>\n",
       "  <th>Intercept</th>        <td>   -4.1271</td> <td>    0.298</td> <td>  -13.829</td> <td> 0.000</td> <td>   -4.712</td> <td>   -3.542</td>\n",
       "</tr>\n",
       "<tr>\n",
       "  <th>RIAGENDR[T.Male]</th> <td>   -0.0520</td> <td>    0.061</td> <td>   -0.846</td> <td> 0.397</td> <td>   -0.172</td> <td>    0.068</td>\n",
       "</tr>\n",
       "<tr>\n",
       "  <th>LBXHCT</th>           <td>    0.0659</td> <td>    0.008</td> <td>    8.766</td> <td> 0.000</td> <td>    0.051</td> <td>    0.081</td>\n",
       "</tr>\n",
       "</table>"
      ],
      "text/plain": [
       "<class 'statsmodels.iolib.summary.Summary'>\n",
       "\"\"\"\n",
       "                           Logit Regression Results                           \n",
       "==============================================================================\n",
       "Dep. Variable:            High_SYS_BP   No. Observations:                 8544\n",
       "Model:                          Logit   Df Residuals:                     8541\n",
       "Method:                           MLE   Df Model:                            2\n",
       "Date:                Wed, 29 Dec 2021   Pseudo R-squ.:                 0.01066\n",
       "Time:                        19:08:49   Log-Likelihood:                -4080.7\n",
       "converged:                       True   LL-Null:                       -4124.6\n",
       "Covariance Type:            nonrobust   LLR p-value:                 8.173e-20\n",
       "====================================================================================\n",
       "                       coef    std err          z      P>|z|      [0.025      0.975]\n",
       "------------------------------------------------------------------------------------\n",
       "Intercept           -4.1271      0.298    -13.829      0.000      -4.712      -3.542\n",
       "RIAGENDR[T.Male]    -0.0520      0.061     -0.846      0.397      -0.172       0.068\n",
       "LBXHCT               0.0659      0.008      8.766      0.000       0.051       0.081\n",
       "====================================================================================\n",
       "\"\"\""
      ]
     },
     "execution_count": 22,
     "metadata": {},
     "output_type": "execute_result"
    }
   ],
   "source": [
    "formula4 = \"High_SYS_BP ~ LBXHCT + RIAGENDR\"\n",
    "mylogit4 = smf.logit(formula=formula4, data=test_df).fit()\n",
    "mylogit4.summary()"
   ]
  },
  {
   "cell_type": "code",
   "execution_count": 105,
   "metadata": {},
   "outputs": [
    {
     "name": "stdout",
     "output_type": "stream",
     "text": [
      "Optimization terminated successfully.\n",
      "         Current function value: 0.582704\n",
      "         Iterations 5\n"
     ]
    },
    {
     "data": {
      "text/html": [
       "<table class=\"simpletable\">\n",
       "<caption>Logit Regression Results</caption>\n",
       "<tr>\n",
       "  <th>Dep. Variable:</th>      <td>High_SYS_BP</td>   <th>  No. Observations:  </th>  <td>  5824</td>  \n",
       "</tr>\n",
       "<tr>\n",
       "  <th>Model:</th>                 <td>Logit</td>      <th>  Df Residuals:      </th>  <td>  5821</td>  \n",
       "</tr>\n",
       "<tr>\n",
       "  <th>Method:</th>                 <td>MLE</td>       <th>  Df Model:          </th>  <td>     2</td>  \n",
       "</tr>\n",
       "<tr>\n",
       "  <th>Date:</th>            <td>Tue, 28 Dec 2021</td> <th>  Pseudo R-squ.:     </th> <td>0.006866</td> \n",
       "</tr>\n",
       "<tr>\n",
       "  <th>Time:</th>                <td>19:59:12</td>     <th>  Log-Likelihood:    </th> <td> -3393.7</td> \n",
       "</tr>\n",
       "<tr>\n",
       "  <th>converged:</th>             <td>True</td>       <th>  LL-Null:           </th> <td> -3417.1</td> \n",
       "</tr>\n",
       "<tr>\n",
       "  <th>Covariance Type:</th>     <td>nonrobust</td>    <th>  LLR p-value:       </th> <td>6.476e-11</td>\n",
       "</tr>\n",
       "</table>\n",
       "<table class=\"simpletable\">\n",
       "<tr>\n",
       "         <td></td>            <th>coef</th>     <th>std err</th>      <th>z</th>      <th>P>|z|</th>  <th>[0.025</th>    <th>0.975]</th>  \n",
       "</tr>\n",
       "<tr>\n",
       "  <th>Intercept</th>       <td>   -0.6829</td> <td>    0.295</td> <td>   -2.311</td> <td> 0.021</td> <td>   -1.262</td> <td>   -0.104</td>\n",
       "</tr>\n",
       "<tr>\n",
       "  <th>DMQMILIZ[T.Yes]</th> <td>    0.6682</td> <td>    0.096</td> <td>    6.973</td> <td> 0.000</td> <td>    0.480</td> <td>    0.856</td>\n",
       "</tr>\n",
       "<tr>\n",
       "  <th>LBXHCT</th>          <td>   -0.0087</td> <td>    0.007</td> <td>   -1.219</td> <td> 0.223</td> <td>   -0.023</td> <td>    0.005</td>\n",
       "</tr>\n",
       "</table>"
      ],
      "text/plain": [
       "<class 'statsmodels.iolib.summary.Summary'>\n",
       "\"\"\"\n",
       "                           Logit Regression Results                           \n",
       "==============================================================================\n",
       "Dep. Variable:            High_SYS_BP   No. Observations:                 5824\n",
       "Model:                          Logit   Df Residuals:                     5821\n",
       "Method:                           MLE   Df Model:                            2\n",
       "Date:                Tue, 28 Dec 2021   Pseudo R-squ.:                0.006866\n",
       "Time:                        19:59:12   Log-Likelihood:                -3393.7\n",
       "converged:                       True   LL-Null:                       -3417.1\n",
       "Covariance Type:            nonrobust   LLR p-value:                 6.476e-11\n",
       "===================================================================================\n",
       "                      coef    std err          z      P>|z|      [0.025      0.975]\n",
       "-----------------------------------------------------------------------------------\n",
       "Intercept          -0.6829      0.295     -2.311      0.021      -1.262      -0.104\n",
       "DMQMILIZ[T.Yes]     0.6682      0.096      6.973      0.000       0.480       0.856\n",
       "LBXHCT             -0.0087      0.007     -1.219      0.223      -0.023       0.005\n",
       "===================================================================================\n",
       "\"\"\""
      ]
     },
     "execution_count": 105,
     "metadata": {},
     "output_type": "execute_result"
    }
   ],
   "source": [
    "formula5 = \"High_SYS_BP ~ LBXHCT + DMQMILIZ\"\n",
    "mylogit5 = smf.logit(formula=formula5, data=test_df).fit()\n",
    "mylogit5.summary()"
   ]
  },
  {
   "cell_type": "code",
   "execution_count": 23,
   "metadata": {},
   "outputs": [
    {
     "name": "stdout",
     "output_type": "stream",
     "text": [
      "Optimization terminated successfully.\n",
      "         Current function value: 0.584037\n",
      "         Iterations 5\n"
     ]
    },
    {
     "data": {
      "text/html": [
       "<table class=\"simpletable\">\n",
       "<caption>Logit Regression Results</caption>\n",
       "<tr>\n",
       "  <th>Dep. Variable:</th>      <td>High_SYS_BP</td>   <th>  No. Observations:  </th>  <td>  6065</td>  \n",
       "</tr>\n",
       "<tr>\n",
       "  <th>Model:</th>                 <td>Logit</td>      <th>  Df Residuals:      </th>  <td>  6063</td>  \n",
       "</tr>\n",
       "<tr>\n",
       "  <th>Method:</th>                 <td>MLE</td>       <th>  Df Model:          </th>  <td>     1</td>  \n",
       "</tr>\n",
       "<tr>\n",
       "  <th>Date:</th>            <td>Wed, 29 Dec 2021</td> <th>  Pseudo R-squ.:     </th> <td>0.006247</td> \n",
       "</tr>\n",
       "<tr>\n",
       "  <th>Time:</th>                <td>19:09:14</td>     <th>  Log-Likelihood:    </th> <td> -3542.2</td> \n",
       "</tr>\n",
       "<tr>\n",
       "  <th>converged:</th>             <td>True</td>       <th>  LL-Null:           </th> <td> -3564.5</td> \n",
       "</tr>\n",
       "<tr>\n",
       "  <th>Covariance Type:</th>     <td>nonrobust</td>    <th>  LLR p-value:       </th> <td>2.496e-11</td>\n",
       "</tr>\n",
       "</table>\n",
       "<table class=\"simpletable\">\n",
       "<tr>\n",
       "         <td></td>            <th>coef</th>     <th>std err</th>      <th>z</th>      <th>P>|z|</th>  <th>[0.025</th>    <th>0.975]</th>  \n",
       "</tr>\n",
       "<tr>\n",
       "  <th>Intercept</th>       <td>   -1.0337</td> <td>    0.031</td> <td>  -33.854</td> <td> 0.000</td> <td>   -1.094</td> <td>   -0.974</td>\n",
       "</tr>\n",
       "<tr>\n",
       "  <th>DMQMILIZ[T.Yes]</th> <td>    0.6426</td> <td>    0.094</td> <td>    6.820</td> <td> 0.000</td> <td>    0.458</td> <td>    0.827</td>\n",
       "</tr>\n",
       "</table>"
      ],
      "text/plain": [
       "<class 'statsmodels.iolib.summary.Summary'>\n",
       "\"\"\"\n",
       "                           Logit Regression Results                           \n",
       "==============================================================================\n",
       "Dep. Variable:            High_SYS_BP   No. Observations:                 6065\n",
       "Model:                          Logit   Df Residuals:                     6063\n",
       "Method:                           MLE   Df Model:                            1\n",
       "Date:                Wed, 29 Dec 2021   Pseudo R-squ.:                0.006247\n",
       "Time:                        19:09:14   Log-Likelihood:                -3542.2\n",
       "converged:                       True   LL-Null:                       -3564.5\n",
       "Covariance Type:            nonrobust   LLR p-value:                 2.496e-11\n",
       "===================================================================================\n",
       "                      coef    std err          z      P>|z|      [0.025      0.975]\n",
       "-----------------------------------------------------------------------------------\n",
       "Intercept          -1.0337      0.031    -33.854      0.000      -1.094      -0.974\n",
       "DMQMILIZ[T.Yes]     0.6426      0.094      6.820      0.000       0.458       0.827\n",
       "===================================================================================\n",
       "\"\"\""
      ]
     },
     "execution_count": 23,
     "metadata": {},
     "output_type": "execute_result"
    }
   ],
   "source": [
    "formula6 = \"High_SYS_BP ~ DMQMILIZ\"\n",
    "mylogit6 = smf.logit(formula=formula6, data=test_df).fit()\n",
    "mylogit6.summary()"
   ]
  },
  {
   "cell_type": "code",
   "execution_count": 99,
   "metadata": {},
   "outputs": [
    {
     "name": "stdout",
     "output_type": "stream",
     "text": [
      "Optimization terminated successfully.\n",
      "         Current function value: 0.490207\n",
      "         Iterations 5\n"
     ]
    }
   ],
   "source": [
    "xy_values = test_df[test_df['LBXHCT']>-1]\n",
    "xy_values = xy_values[xy_values['High_SYS_BP']>-1].sort_values(by='LBXHCT')\n",
    "x_values = xy_values['LBXHCT'].to_numpy().reshape(-1,1)\n",
    "y_values = xy_values['High_SYS_BP'].to_numpy()\n",
    "mylogit3 = sma.Logit(y_values,x_values).fit()"
   ]
  }
 ],
 "metadata": {
  "interpreter": {
   "hash": "40d3a090f54c6569ab1632332b64b2c03c39dcf918b08424e98f38b5ae0af88f"
  },
  "kernelspec": {
   "display_name": "Python 3.8.12 64-bit ('base': conda)",
   "language": "python",
   "name": "python3"
  },
  "language_info": {
   "codemirror_mode": {
    "name": "ipython",
    "version": 3
   },
   "file_extension": ".py",
   "mimetype": "text/x-python",
   "name": "python",
   "nbconvert_exporter": "python",
   "pygments_lexer": "ipython3",
   "version": "3.8.12"
  },
  "orig_nbformat": 4
 },
 "nbformat": 4,
 "nbformat_minor": 2
}
